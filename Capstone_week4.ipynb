{
 "cells": [
  {
   "cell_type": "markdown",
   "metadata": {},
   "source": [
    "## Coursera Capstone\n",
    "#### IBM Applied Data Science Capstone\n",
    "#### Opening a New Shopping Mall in Kuala Lumpur, Malaysia\n",
    "#### By: Shubham Borghare\n",
    "#### January 2020"
   ]
  },
  {
   "cell_type": "markdown",
   "metadata": {},
   "source": [
    "<img src=\"https://i.pinimg.com/originals/fe/e9/6d/fee96dc0452b29469e4a0a417cdc9f4a.jpg\">"
   ]
  },
  {
   "cell_type": "markdown",
   "metadata": {},
   "source": [
    "### Introduction\n",
    "\n",
    "`For many shoppers, visiting shopping malls is a great way to relax and enjoy themselves during weekends and holidays. They can do grocery shopping, dine at restaurants, shop at the various fashion outlets, watch movies and perform many more activities. Shopping malls are like a one-stop destination for all types of shoppers. For retailers, the central location and the large crowd at the shopping malls provides a great distribution channel to market their products and services. Property developers are also taking advantage of this trend to build more shopping malls to cater to the demand. As a result, there are many shopping malls in the city of Kuala Lumpur and many more are being built. Opening shopping malls allows property developers to earn consistent rental income. Of course, as with any business decision, opening a new shopping mall requires serious consideration and is a lot more complicated than it seems. Particularly, the location of the shopping mall is one of the most important decisions that will determine whether the mall will be a success or a failure. \n",
    "\n"
   ]
  },
  {
   "cell_type": "markdown",
   "metadata": {},
   "source": [
    "### Business Problem\n",
    "The objective of this capstone project is to analyse and select the best locations in the city of Kuala Lumpur, Malaysia to open a new shopping mall. Using data science methodology and machine learning techniques like clustering, this project aims to provide solutions to answer the business question: In the city of Kuala Lumpur, Malaysia, if a property developer is looking to open a new shopping mall, where would you recommend that they open it?"
   ]
  },
  {
   "cell_type": "markdown",
   "metadata": {},
   "source": [
    "### Target Audience of this project\n",
    "This project is particularly useful to property developers and investors looking to open or invest in\n",
    "new shopping malls in the capital city of Malaysia i.e. Kuala Lumpur. This project is timely as the city\n",
    "is currently suffering from oversupply of shopping malls. Data from the National Property\n",
    "Information Centre (NAPIC) released last year showed that an additional 15 per cent will be added to\n",
    "existing mall space, and the agency predicted that total occupancy may dip below 86 per cent. The\n",
    "local newspaper The Malay Mail also reported in March last year that the true occupancy rates in\n",
    "malls may be as low as 40 per cent in some areas, quoting a Financial Times (FT) article cataloguing\n",
    "the country's continued obsession with building more shopping space despite chronic oversupply."
   ]
  },
  {
   "cell_type": "markdown",
   "metadata": {},
   "source": [
    "### Data\n",
    "To solve the problem, we will need the following data:\n",
    "- List of neighbourhoods in Kuala Lumpur. This defines the scope of this project which is\n",
    "confined to the city of Kuala Lumpur, the capital city of the country of Malaysia in South East\n",
    "Asia.\n",
    "- Latitude and longitude coordinates of those neighbourhoods. This is required in order to\n",
    "plot the map and also to get the venue data.\n",
    "- Venue data, particularly data related to shopping malls. We will use this data to perform\n",
    "clustering on the neighbourhoods."
   ]
  },
  {
   "cell_type": "markdown",
   "metadata": {},
   "source": [
    "##### Sources of data and methods to extract them\n",
    "This Wikipedia page (https://en.wikipedia.org/wiki/Category:Suburbs_in_Kuala_Lumpur) contains a\n",
    "list of neighbourhoods in Kuala Lumpur, with a total of 70 neighbourhoods. We will use web scraping\n",
    "techniques to extract the data from the Wikipedia page, with the help of Python requests and\n",
    "beautifulsoup packages. Then we will get the geographical coordinates of the neighbourhoods using\n",
    "Python Geocoder package which will give us the latitude and longitude coordinates of the\n",
    "neighbourhoods.\n",
    "After that, we will use Foursquare API to get the venue data for those neighbourhoods. Foursquare\n",
    "has one of the largest database of 105+ million places and is used by over 125,000 developers.\n",
    "Foursquare API will provide many categories of the venue data, we are particularly interested in the\n",
    "Shopping Mall category in order to help us to solve the business problem put forward. This is a\n",
    "project that will make use of many data science skills, from web scraping (Wikipedia), working with\n",
    "API (Foursquare), data cleaning, data wrangling, to machine learning (K-means clustering) and map\n",
    "visualization (Folium). In the next section, we will present the Methodology section where we will\n",
    "discuss the steps taken in this project, the data analysis that we did and the machine learning\n",
    "technique that was used."
   ]
  },
  {
   "cell_type": "code",
   "execution_count": null,
   "metadata": {},
   "outputs": [],
   "source": []
  }
 ],
 "metadata": {
  "kernelspec": {
   "display_name": "Python 3",
   "language": "python",
   "name": "python3"
  },
  "language_info": {
   "codemirror_mode": {
    "name": "ipython",
    "version": 3
   },
   "file_extension": ".py",
   "mimetype": "text/x-python",
   "name": "python",
   "nbconvert_exporter": "python",
   "pygments_lexer": "ipython3",
   "version": "3.7.3"
  }
 },
 "nbformat": 4,
 "nbformat_minor": 2
}
