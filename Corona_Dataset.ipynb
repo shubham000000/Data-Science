{
 "cells": [
  {
   "cell_type": "code",
   "execution_count": 153,
   "metadata": {},
   "outputs": [],
   "source": [
    "import pandas as pd\n",
    "#!pip install seaborn\n",
    "import seaborn as sns\n",
    "import matplotlib.pyplot as plt\n",
    "%matplotlib inline\n",
    "#!set MPLBACKEND=TkAgg\n",
    "\n",
    "# from matplotlib.pyplot import figure\n",
    "# figure(num=None, figsize=(8, 6), dpi=80, facecolor='w', edgecolor='k')"
   ]
  },
  {
   "cell_type": "code",
   "execution_count": 154,
   "metadata": {},
   "outputs": [],
   "source": [
    "df = pd.read_csv(\"corona.csv\", encoding= 'unicode_escape')\n",
    "#df.encode('utf-8').strip()"
   ]
  },
  {
   "cell_type": "code",
   "execution_count": 155,
   "metadata": {},
   "outputs": [],
   "source": [
    "df.head(20)\n",
    "\n",
    "df = df.drop([\"Unnamed: 1\",'Unnamed: 3', \"Unnamed: 5\", \"Unnamed: 7\", \"Unnamed: 9\" ,\"Unnamed: 11\", \"Unnamed: 13\"], axis=1)"
   ]
  },
  {
   "cell_type": "code",
   "execution_count": 156,
   "metadata": {},
   "outputs": [],
   "source": [
    "df.reset_index(drop=True, inplace=True)"
   ]
  },
  {
   "cell_type": "code",
   "execution_count": 157,
   "metadata": {},
   "outputs": [
    {
     "data": {
      "text/html": [
       "<div>\n",
       "<style scoped>\n",
       "    .dataframe tbody tr th:only-of-type {\n",
       "        vertical-align: middle;\n",
       "    }\n",
       "\n",
       "    .dataframe tbody tr th {\n",
       "        vertical-align: top;\n",
       "    }\n",
       "\n",
       "    .dataframe thead th {\n",
       "        text-align: right;\n",
       "    }\n",
       "</style>\n",
       "<table border=\"1\" class=\"dataframe\">\n",
       "  <thead>\n",
       "    <tr style=\"text-align: right;\">\n",
       "      <th></th>\n",
       "      <th>Reporting Country/ Territory/Area</th>\n",
       "      <th>Total confirmed\\n  cases</th>\n",
       "      <th>Total\\nconfirmed new cases1</th>\n",
       "      <th>Total deaths</th>\n",
       "      <th>Total\\nnew deaths1</th>\n",
       "      <th>Transmission classification§</th>\n",
       "      <th>Days since last reported case</th>\n",
       "    </tr>\n",
       "  </thead>\n",
       "  <tbody>\n",
       "    <tr>\n",
       "      <th>0</th>\n",
       "      <td>Republic of Korea</td>\n",
       "      <td>8162</td>\n",
       "      <td>76</td>\n",
       "      <td>75</td>\n",
       "      <td>3</td>\n",
       "      <td>Local transmission</td>\n",
       "      <td>0</td>\n",
       "    </tr>\n",
       "    <tr>\n",
       "      <th>1</th>\n",
       "      <td>Japan</td>\n",
       "      <td>780</td>\n",
       "      <td>64</td>\n",
       "      <td>22</td>\n",
       "      <td>1</td>\n",
       "      <td>Local transmission</td>\n",
       "      <td>0</td>\n",
       "    </tr>\n",
       "    <tr>\n",
       "      <th>2</th>\n",
       "      <td>Australia</td>\n",
       "      <td>249</td>\n",
       "      <td>52</td>\n",
       "      <td>3</td>\n",
       "      <td>0</td>\n",
       "      <td>Local transmission</td>\n",
       "      <td>0</td>\n",
       "    </tr>\n",
       "    <tr>\n",
       "      <th>3</th>\n",
       "      <td>Malaysia</td>\n",
       "      <td>238</td>\n",
       "      <td>41</td>\n",
       "      <td>0</td>\n",
       "      <td>0</td>\n",
       "      <td>Local transmission</td>\n",
       "      <td>0</td>\n",
       "    </tr>\n",
       "    <tr>\n",
       "      <th>4</th>\n",
       "      <td>Singapore</td>\n",
       "      <td>212</td>\n",
       "      <td>12</td>\n",
       "      <td>0</td>\n",
       "      <td>0</td>\n",
       "      <td>Local transmission</td>\n",
       "      <td>0</td>\n",
       "    </tr>\n",
       "  </tbody>\n",
       "</table>\n",
       "</div>"
      ],
      "text/plain": [
       "  Reporting Country/ Territory/Area  Total confirmed\\n  cases  \\\n",
       "0                  Republic of Korea                       8162   \n",
       "1                              Japan                        780   \n",
       "2                          Australia                        249   \n",
       "3                           Malaysia                        238   \n",
       "4                          Singapore                        212   \n",
       "\n",
       "   Total\\nconfirmed new cases1  Total deaths  Total\\nnew deaths1  \\\n",
       "0                           76            75                   3   \n",
       "1                           64            22                   1   \n",
       "2                           52             3                   0   \n",
       "3                           41             0                   0   \n",
       "4                           12             0                   0   \n",
       "\n",
       "  Transmission classification§  Days since last reported case  \n",
       "0           Local transmission                              0  \n",
       "1           Local transmission                              0  \n",
       "2           Local transmission                              0  \n",
       "3           Local transmission                              0  \n",
       "4           Local transmission                              0  "
      ]
     },
     "execution_count": 157,
     "metadata": {},
     "output_type": "execute_result"
    }
   ],
   "source": [
    "df.head()"
   ]
  },
  {
   "cell_type": "code",
   "execution_count": 158,
   "metadata": {},
   "outputs": [
    {
     "data": {
      "text/plain": [
       "(91, 7)"
      ]
     },
     "execution_count": 158,
     "metadata": {},
     "output_type": "execute_result"
    }
   ],
   "source": [
    "df.shape"
   ]
  },
  {
   "cell_type": "code",
   "execution_count": 159,
   "metadata": {},
   "outputs": [
    {
     "data": {
      "text/plain": [
       "Reporting Country/ Territory/Area    0\n",
       "Total confirmed\\n  cases             0\n",
       "Total\\nconfirmed new cases1           0\n",
       "Total deaths                          0\n",
       "Total\\nnew deaths1                    0\n",
       "Transmission classification§          0\n",
       "Days since last reported case         0\n",
       "dtype: int64"
      ]
     },
     "execution_count": 159,
     "metadata": {},
     "output_type": "execute_result"
    }
   ],
   "source": [
    "# check if null values are there in the dataset\n",
    "df.isnull().sum()"
   ]
  },
  {
   "cell_type": "code",
   "execution_count": 160,
   "metadata": {},
   "outputs": [
    {
     "data": {
      "text/plain": [
       "Reporting Country/ Territory/Area    object\n",
       "Total confirmed\\n  cases              int64\n",
       "Total\\nconfirmed new cases1            int64\n",
       "Total deaths                           int64\n",
       "Total\\nnew deaths1                     int64\n",
       "Transmission classification§          object\n",
       "Days since last reported case          int64\n",
       "dtype: object"
      ]
     },
     "execution_count": 160,
     "metadata": {},
     "output_type": "execute_result"
    }
   ],
   "source": [
    "df.dtypes"
   ]
  },
  {
   "cell_type": "code",
   "execution_count": 161,
   "metadata": {},
   "outputs": [
    {
     "data": {
      "text/plain": [
       "array(['Local transmission', 'Imported cases only', 'Under investigation'],\n",
       "      dtype=object)"
      ]
     },
     "execution_count": 161,
     "metadata": {},
     "output_type": "execute_result"
    }
   ],
   "source": [
    "df['Transmission classification§'].unique()"
   ]
  },
  {
   "cell_type": "code",
   "execution_count": 162,
   "metadata": {},
   "outputs": [],
   "source": [
    "df['Country'] = df['Reporting Country/ Territory/Area']\n",
    "df['total_confirmed_cases'] = df['Total confirmed\\n  cases']\n",
    "df['total_confirmed_new_cases'] = df['Total\\nconfirmed new cases1']\n",
    "df['Total_deaths'] = df['Total deaths']\n",
    "df['Total_new_deaths'] = df['Total\\nnew deaths1']\n",
    "df['Transmission_classification'] = df['Transmission classification§']\n",
    "df['Days_since_last_reported_case'] = df['Days since last reported case']"
   ]
  },
  {
   "cell_type": "code",
   "execution_count": 163,
   "metadata": {},
   "outputs": [
    {
     "data": {
      "text/html": [
       "<div>\n",
       "<style scoped>\n",
       "    .dataframe tbody tr th:only-of-type {\n",
       "        vertical-align: middle;\n",
       "    }\n",
       "\n",
       "    .dataframe tbody tr th {\n",
       "        vertical-align: top;\n",
       "    }\n",
       "\n",
       "    .dataframe thead th {\n",
       "        text-align: right;\n",
       "    }\n",
       "</style>\n",
       "<table border=\"1\" class=\"dataframe\">\n",
       "  <thead>\n",
       "    <tr style=\"text-align: right;\">\n",
       "      <th></th>\n",
       "      <th>Reporting Country/ Territory/Area</th>\n",
       "      <th>Total confirmed\\n  cases</th>\n",
       "      <th>Total\\nconfirmed new cases1</th>\n",
       "      <th>Total deaths</th>\n",
       "      <th>Total\\nnew deaths1</th>\n",
       "      <th>Transmission classification§</th>\n",
       "      <th>Days since last reported case</th>\n",
       "      <th>Country</th>\n",
       "      <th>total_confirmed_cases</th>\n",
       "      <th>total_confirmed_new_cases</th>\n",
       "      <th>Total_deaths</th>\n",
       "      <th>Total_new_deaths</th>\n",
       "      <th>Transmission_classification</th>\n",
       "      <th>Days_since_last_reported_case</th>\n",
       "    </tr>\n",
       "  </thead>\n",
       "  <tbody>\n",
       "    <tr>\n",
       "      <th>0</th>\n",
       "      <td>Republic of Korea</td>\n",
       "      <td>8162</td>\n",
       "      <td>76</td>\n",
       "      <td>75</td>\n",
       "      <td>3</td>\n",
       "      <td>Local transmission</td>\n",
       "      <td>0</td>\n",
       "      <td>Republic of Korea</td>\n",
       "      <td>8162</td>\n",
       "      <td>76</td>\n",
       "      <td>75</td>\n",
       "      <td>3</td>\n",
       "      <td>Local transmission</td>\n",
       "      <td>0</td>\n",
       "    </tr>\n",
       "    <tr>\n",
       "      <th>1</th>\n",
       "      <td>Japan</td>\n",
       "      <td>780</td>\n",
       "      <td>64</td>\n",
       "      <td>22</td>\n",
       "      <td>1</td>\n",
       "      <td>Local transmission</td>\n",
       "      <td>0</td>\n",
       "      <td>Japan</td>\n",
       "      <td>780</td>\n",
       "      <td>64</td>\n",
       "      <td>22</td>\n",
       "      <td>1</td>\n",
       "      <td>Local transmission</td>\n",
       "      <td>0</td>\n",
       "    </tr>\n",
       "    <tr>\n",
       "      <th>2</th>\n",
       "      <td>Australia</td>\n",
       "      <td>249</td>\n",
       "      <td>52</td>\n",
       "      <td>3</td>\n",
       "      <td>0</td>\n",
       "      <td>Local transmission</td>\n",
       "      <td>0</td>\n",
       "      <td>Australia</td>\n",
       "      <td>249</td>\n",
       "      <td>52</td>\n",
       "      <td>3</td>\n",
       "      <td>0</td>\n",
       "      <td>Local transmission</td>\n",
       "      <td>0</td>\n",
       "    </tr>\n",
       "    <tr>\n",
       "      <th>3</th>\n",
       "      <td>Malaysia</td>\n",
       "      <td>238</td>\n",
       "      <td>41</td>\n",
       "      <td>0</td>\n",
       "      <td>0</td>\n",
       "      <td>Local transmission</td>\n",
       "      <td>0</td>\n",
       "      <td>Malaysia</td>\n",
       "      <td>238</td>\n",
       "      <td>41</td>\n",
       "      <td>0</td>\n",
       "      <td>0</td>\n",
       "      <td>Local transmission</td>\n",
       "      <td>0</td>\n",
       "    </tr>\n",
       "    <tr>\n",
       "      <th>4</th>\n",
       "      <td>Singapore</td>\n",
       "      <td>212</td>\n",
       "      <td>12</td>\n",
       "      <td>0</td>\n",
       "      <td>0</td>\n",
       "      <td>Local transmission</td>\n",
       "      <td>0</td>\n",
       "      <td>Singapore</td>\n",
       "      <td>212</td>\n",
       "      <td>12</td>\n",
       "      <td>0</td>\n",
       "      <td>0</td>\n",
       "      <td>Local transmission</td>\n",
       "      <td>0</td>\n",
       "    </tr>\n",
       "  </tbody>\n",
       "</table>\n",
       "</div>"
      ],
      "text/plain": [
       "  Reporting Country/ Territory/Area  Total confirmed\\n  cases  \\\n",
       "0                  Republic of Korea                       8162   \n",
       "1                              Japan                        780   \n",
       "2                          Australia                        249   \n",
       "3                           Malaysia                        238   \n",
       "4                          Singapore                        212   \n",
       "\n",
       "   Total\\nconfirmed new cases1  Total deaths  Total\\nnew deaths1  \\\n",
       "0                           76            75                   3   \n",
       "1                           64            22                   1   \n",
       "2                           52             3                   0   \n",
       "3                           41             0                   0   \n",
       "4                           12             0                   0   \n",
       "\n",
       "  Transmission classification§  Days since last reported case  \\\n",
       "0           Local transmission                              0   \n",
       "1           Local transmission                              0   \n",
       "2           Local transmission                              0   \n",
       "3           Local transmission                              0   \n",
       "4           Local transmission                              0   \n",
       "\n",
       "             Country  total_confirmed_cases  total_confirmed_new_cases  \\\n",
       "0  Republic of Korea                   8162                         76   \n",
       "1              Japan                    780                         64   \n",
       "2          Australia                    249                         52   \n",
       "3           Malaysia                    238                         41   \n",
       "4          Singapore                    212                         12   \n",
       "\n",
       "   Total_deaths  Total_new_deaths Transmission_classification  \\\n",
       "0            75                 3          Local transmission   \n",
       "1            22                 1          Local transmission   \n",
       "2             3                 0          Local transmission   \n",
       "3             0                 0          Local transmission   \n",
       "4             0                 0          Local transmission   \n",
       "\n",
       "   Days_since_last_reported_case  \n",
       "0                              0  \n",
       "1                              0  \n",
       "2                              0  \n",
       "3                              0  \n",
       "4                              0  "
      ]
     },
     "execution_count": 163,
     "metadata": {},
     "output_type": "execute_result"
    }
   ],
   "source": [
    "df.head()"
   ]
  },
  {
   "cell_type": "code",
   "execution_count": 164,
   "metadata": {},
   "outputs": [],
   "source": [
    "df = df.drop([\"Reporting Country/ Territory/Area\",'Total confirmed\\n  cases', \"Total\\nconfirmed new cases1\", \"Total deaths\", \"Total\\nnew deaths1\" ,\"Transmission classification§\", \"Days since last reported case\"], axis=1)"
   ]
  },
  {
   "cell_type": "code",
   "execution_count": 224,
   "metadata": {},
   "outputs": [
    {
     "data": {
      "text/html": [
       "<div>\n",
       "<style scoped>\n",
       "    .dataframe tbody tr th:only-of-type {\n",
       "        vertical-align: middle;\n",
       "    }\n",
       "\n",
       "    .dataframe tbody tr th {\n",
       "        vertical-align: top;\n",
       "    }\n",
       "\n",
       "    .dataframe thead th {\n",
       "        text-align: right;\n",
       "    }\n",
       "</style>\n",
       "<table border=\"1\" class=\"dataframe\">\n",
       "  <thead>\n",
       "    <tr style=\"text-align: right;\">\n",
       "      <th></th>\n",
       "      <th>Country</th>\n",
       "      <th>total_confirmed_cases</th>\n",
       "      <th>total_confirmed_new_cases</th>\n",
       "      <th>Total_deaths</th>\n",
       "      <th>Total_new_deaths</th>\n",
       "      <th>Transmission_classification</th>\n",
       "      <th>Days_since_last_reported_case</th>\n",
       "      <th>Transmission_classification_cat</th>\n",
       "    </tr>\n",
       "  </thead>\n",
       "  <tbody>\n",
       "    <tr>\n",
       "      <th>0</th>\n",
       "      <td>Republic of Korea</td>\n",
       "      <td>8162</td>\n",
       "      <td>76</td>\n",
       "      <td>75</td>\n",
       "      <td>3</td>\n",
       "      <td>Local transmission</td>\n",
       "      <td>0</td>\n",
       "      <td>1</td>\n",
       "    </tr>\n",
       "    <tr>\n",
       "      <th>1</th>\n",
       "      <td>Japan</td>\n",
       "      <td>780</td>\n",
       "      <td>64</td>\n",
       "      <td>22</td>\n",
       "      <td>1</td>\n",
       "      <td>Local transmission</td>\n",
       "      <td>0</td>\n",
       "      <td>1</td>\n",
       "    </tr>\n",
       "    <tr>\n",
       "      <th>2</th>\n",
       "      <td>Australia</td>\n",
       "      <td>249</td>\n",
       "      <td>52</td>\n",
       "      <td>3</td>\n",
       "      <td>0</td>\n",
       "      <td>Local transmission</td>\n",
       "      <td>0</td>\n",
       "      <td>1</td>\n",
       "    </tr>\n",
       "    <tr>\n",
       "      <th>3</th>\n",
       "      <td>Malaysia</td>\n",
       "      <td>238</td>\n",
       "      <td>41</td>\n",
       "      <td>0</td>\n",
       "      <td>0</td>\n",
       "      <td>Local transmission</td>\n",
       "      <td>0</td>\n",
       "      <td>1</td>\n",
       "    </tr>\n",
       "    <tr>\n",
       "      <th>4</th>\n",
       "      <td>Singapore</td>\n",
       "      <td>212</td>\n",
       "      <td>12</td>\n",
       "      <td>0</td>\n",
       "      <td>0</td>\n",
       "      <td>Local transmission</td>\n",
       "      <td>0</td>\n",
       "      <td>1</td>\n",
       "    </tr>\n",
       "    <tr>\n",
       "      <th>5</th>\n",
       "      <td>Philippines</td>\n",
       "      <td>111</td>\n",
       "      <td>47</td>\n",
       "      <td>6</td>\n",
       "      <td>4</td>\n",
       "      <td>Local transmission</td>\n",
       "      <td>0</td>\n",
       "      <td>1</td>\n",
       "    </tr>\n",
       "    <tr>\n",
       "      <th>6</th>\n",
       "      <td>Viet Nam</td>\n",
       "      <td>53</td>\n",
       "      <td>5</td>\n",
       "      <td>0</td>\n",
       "      <td>0</td>\n",
       "      <td>Local transmission</td>\n",
       "      <td>0</td>\n",
       "      <td>1</td>\n",
       "    </tr>\n",
       "    <tr>\n",
       "      <th>7</th>\n",
       "      <td>Brunei Darussalam</td>\n",
       "      <td>40</td>\n",
       "      <td>15</td>\n",
       "      <td>0</td>\n",
       "      <td>0</td>\n",
       "      <td>Local transmission</td>\n",
       "      <td>0</td>\n",
       "      <td>1</td>\n",
       "    </tr>\n",
       "    <tr>\n",
       "      <th>8</th>\n",
       "      <td>Cambodia</td>\n",
       "      <td>7</td>\n",
       "      <td>0</td>\n",
       "      <td>0</td>\n",
       "      <td>0</td>\n",
       "      <td>Local transmission</td>\n",
       "      <td>1</td>\n",
       "      <td>1</td>\n",
       "    </tr>\n",
       "    <tr>\n",
       "      <th>9</th>\n",
       "      <td>New Zealand</td>\n",
       "      <td>6</td>\n",
       "      <td>0</td>\n",
       "      <td>0</td>\n",
       "      <td>0</td>\n",
       "      <td>Local transmission</td>\n",
       "      <td>1</td>\n",
       "      <td>1</td>\n",
       "    </tr>\n",
       "    <tr>\n",
       "      <th>10</th>\n",
       "      <td>Mongolia</td>\n",
       "      <td>1</td>\n",
       "      <td>0</td>\n",
       "      <td>0</td>\n",
       "      <td>0</td>\n",
       "      <td>Imported cases only</td>\n",
       "      <td>5</td>\n",
       "      <td>0</td>\n",
       "    </tr>\n",
       "    <tr>\n",
       "      <th>11</th>\n",
       "      <td>French Polynesia</td>\n",
       "      <td>3</td>\n",
       "      <td>2</td>\n",
       "      <td>0</td>\n",
       "      <td>0</td>\n",
       "      <td>Imported cases only</td>\n",
       "      <td>0</td>\n",
       "      <td>0</td>\n",
       "    </tr>\n",
       "    <tr>\n",
       "      <th>12</th>\n",
       "      <td>Italy</td>\n",
       "      <td>21157</td>\n",
       "      <td>3497</td>\n",
       "      <td>1441</td>\n",
       "      <td>173</td>\n",
       "      <td>Local transmission</td>\n",
       "      <td>0</td>\n",
       "      <td>1</td>\n",
       "    </tr>\n",
       "    <tr>\n",
       "      <th>13</th>\n",
       "      <td>Spain</td>\n",
       "      <td>5753</td>\n",
       "      <td>1522</td>\n",
       "      <td>136</td>\n",
       "      <td>16</td>\n",
       "      <td>Local transmission</td>\n",
       "      <td>0</td>\n",
       "      <td>1</td>\n",
       "    </tr>\n",
       "    <tr>\n",
       "      <th>14</th>\n",
       "      <td>France</td>\n",
       "      <td>4469</td>\n",
       "      <td>829</td>\n",
       "      <td>91</td>\n",
       "      <td>12</td>\n",
       "      <td>Local transmission</td>\n",
       "      <td>0</td>\n",
       "      <td>1</td>\n",
       "    </tr>\n",
       "    <tr>\n",
       "      <th>15</th>\n",
       "      <td>Germany</td>\n",
       "      <td>3795</td>\n",
       "      <td>733</td>\n",
       "      <td>8</td>\n",
       "      <td>2</td>\n",
       "      <td>Local transmission</td>\n",
       "      <td>0</td>\n",
       "      <td>1</td>\n",
       "    </tr>\n",
       "    <tr>\n",
       "      <th>16</th>\n",
       "      <td>Switzerland</td>\n",
       "      <td>1359</td>\n",
       "      <td>234</td>\n",
       "      <td>11</td>\n",
       "      <td>5</td>\n",
       "      <td>Local transmission</td>\n",
       "      <td>0</td>\n",
       "      <td>1</td>\n",
       "    </tr>\n",
       "    <tr>\n",
       "      <th>17</th>\n",
       "      <td>The United Kingdom</td>\n",
       "      <td>1144</td>\n",
       "      <td>342</td>\n",
       "      <td>21</td>\n",
       "      <td>11</td>\n",
       "      <td>Local transmission</td>\n",
       "      <td>0</td>\n",
       "      <td>1</td>\n",
       "    </tr>\n",
       "    <tr>\n",
       "      <th>18</th>\n",
       "      <td>Netherlands</td>\n",
       "      <td>959</td>\n",
       "      <td>155</td>\n",
       "      <td>12</td>\n",
       "      <td>2</td>\n",
       "      <td>Local transmission</td>\n",
       "      <td>0</td>\n",
       "      <td>1</td>\n",
       "    </tr>\n",
       "    <tr>\n",
       "      <th>19</th>\n",
       "      <td>Sweden</td>\n",
       "      <td>924</td>\n",
       "      <td>149</td>\n",
       "      <td>0</td>\n",
       "      <td>0</td>\n",
       "      <td>Local transmission</td>\n",
       "      <td>0</td>\n",
       "      <td>1</td>\n",
       "    </tr>\n",
       "  </tbody>\n",
       "</table>\n",
       "</div>"
      ],
      "text/plain": [
       "               Country  total_confirmed_cases  total_confirmed_new_cases  \\\n",
       "0    Republic of Korea                   8162                         76   \n",
       "1                Japan                    780                         64   \n",
       "2            Australia                    249                         52   \n",
       "3             Malaysia                    238                         41   \n",
       "4            Singapore                    212                         12   \n",
       "5          Philippines                    111                         47   \n",
       "6             Viet Nam                     53                          5   \n",
       "7    Brunei Darussalam                     40                         15   \n",
       "8             Cambodia                      7                          0   \n",
       "9          New Zealand                      6                          0   \n",
       "10            Mongolia                      1                          0   \n",
       "11    French Polynesia                      3                          2   \n",
       "12               Italy                  21157                       3497   \n",
       "13               Spain                   5753                       1522   \n",
       "14              France                   4469                        829   \n",
       "15             Germany                   3795                        733   \n",
       "16         Switzerland                   1359                        234   \n",
       "17  The United Kingdom                   1144                        342   \n",
       "18         Netherlands                    959                        155   \n",
       "19              Sweden                    924                        149   \n",
       "\n",
       "    Total_deaths  Total_new_deaths Transmission_classification  \\\n",
       "0             75                 3          Local transmission   \n",
       "1             22                 1          Local transmission   \n",
       "2              3                 0          Local transmission   \n",
       "3              0                 0          Local transmission   \n",
       "4              0                 0          Local transmission   \n",
       "5              6                 4          Local transmission   \n",
       "6              0                 0          Local transmission   \n",
       "7              0                 0          Local transmission   \n",
       "8              0                 0          Local transmission   \n",
       "9              0                 0          Local transmission   \n",
       "10             0                 0         Imported cases only   \n",
       "11             0                 0         Imported cases only   \n",
       "12          1441               173          Local transmission   \n",
       "13           136                16          Local transmission   \n",
       "14            91                12          Local transmission   \n",
       "15             8                 2          Local transmission   \n",
       "16            11                 5          Local transmission   \n",
       "17            21                11          Local transmission   \n",
       "18            12                 2          Local transmission   \n",
       "19             0                 0          Local transmission   \n",
       "\n",
       "    Days_since_last_reported_case  Transmission_classification_cat  \n",
       "0                               0                                1  \n",
       "1                               0                                1  \n",
       "2                               0                                1  \n",
       "3                               0                                1  \n",
       "4                               0                                1  \n",
       "5                               0                                1  \n",
       "6                               0                                1  \n",
       "7                               0                                1  \n",
       "8                               1                                1  \n",
       "9                               1                                1  \n",
       "10                              5                                0  \n",
       "11                              0                                0  \n",
       "12                              0                                1  \n",
       "13                              0                                1  \n",
       "14                              0                                1  \n",
       "15                              0                                1  \n",
       "16                              0                                1  \n",
       "17                              0                                1  \n",
       "18                              0                                1  \n",
       "19                              0                                1  "
      ]
     },
     "execution_count": 224,
     "metadata": {},
     "output_type": "execute_result"
    }
   ],
   "source": [
    "df.head(20)"
   ]
  },
  {
   "cell_type": "code",
   "execution_count": 166,
   "metadata": {},
   "outputs": [
    {
     "data": {
      "text/plain": [
       "(91, 7)"
      ]
     },
     "execution_count": 166,
     "metadata": {},
     "output_type": "execute_result"
    }
   ],
   "source": [
    "df.shape"
   ]
  },
  {
   "cell_type": "code",
   "execution_count": 167,
   "metadata": {},
   "outputs": [],
   "source": [
    "# dummy_fields = ['Transmission_classification']\n",
    "# for each in dummy_fields:\n",
    "#     dummies = pd.get_dummies(df[each], prefix=each, drop_first=False)\n",
    "#     df = pd.concat([df, dummies], axis=1)"
   ]
  },
  {
   "cell_type": "code",
   "execution_count": 168,
   "metadata": {},
   "outputs": [
    {
     "data": {
      "text/html": [
       "<div>\n",
       "<style scoped>\n",
       "    .dataframe tbody tr th:only-of-type {\n",
       "        vertical-align: middle;\n",
       "    }\n",
       "\n",
       "    .dataframe tbody tr th {\n",
       "        vertical-align: top;\n",
       "    }\n",
       "\n",
       "    .dataframe thead th {\n",
       "        text-align: right;\n",
       "    }\n",
       "</style>\n",
       "<table border=\"1\" class=\"dataframe\">\n",
       "  <thead>\n",
       "    <tr style=\"text-align: right;\">\n",
       "      <th></th>\n",
       "      <th>Country</th>\n",
       "      <th>total_confirmed_cases</th>\n",
       "      <th>total_confirmed_new_cases</th>\n",
       "      <th>Total_deaths</th>\n",
       "      <th>Total_new_deaths</th>\n",
       "      <th>Transmission_classification</th>\n",
       "      <th>Days_since_last_reported_case</th>\n",
       "    </tr>\n",
       "  </thead>\n",
       "  <tbody>\n",
       "    <tr>\n",
       "      <th>0</th>\n",
       "      <td>Republic of Korea</td>\n",
       "      <td>8162</td>\n",
       "      <td>76</td>\n",
       "      <td>75</td>\n",
       "      <td>3</td>\n",
       "      <td>Local transmission</td>\n",
       "      <td>0</td>\n",
       "    </tr>\n",
       "    <tr>\n",
       "      <th>1</th>\n",
       "      <td>Japan</td>\n",
       "      <td>780</td>\n",
       "      <td>64</td>\n",
       "      <td>22</td>\n",
       "      <td>1</td>\n",
       "      <td>Local transmission</td>\n",
       "      <td>0</td>\n",
       "    </tr>\n",
       "    <tr>\n",
       "      <th>2</th>\n",
       "      <td>Australia</td>\n",
       "      <td>249</td>\n",
       "      <td>52</td>\n",
       "      <td>3</td>\n",
       "      <td>0</td>\n",
       "      <td>Local transmission</td>\n",
       "      <td>0</td>\n",
       "    </tr>\n",
       "    <tr>\n",
       "      <th>3</th>\n",
       "      <td>Malaysia</td>\n",
       "      <td>238</td>\n",
       "      <td>41</td>\n",
       "      <td>0</td>\n",
       "      <td>0</td>\n",
       "      <td>Local transmission</td>\n",
       "      <td>0</td>\n",
       "    </tr>\n",
       "    <tr>\n",
       "      <th>4</th>\n",
       "      <td>Singapore</td>\n",
       "      <td>212</td>\n",
       "      <td>12</td>\n",
       "      <td>0</td>\n",
       "      <td>0</td>\n",
       "      <td>Local transmission</td>\n",
       "      <td>0</td>\n",
       "    </tr>\n",
       "  </tbody>\n",
       "</table>\n",
       "</div>"
      ],
      "text/plain": [
       "             Country  total_confirmed_cases  total_confirmed_new_cases  \\\n",
       "0  Republic of Korea                   8162                         76   \n",
       "1              Japan                    780                         64   \n",
       "2          Australia                    249                         52   \n",
       "3           Malaysia                    238                         41   \n",
       "4          Singapore                    212                         12   \n",
       "\n",
       "   Total_deaths  Total_new_deaths Transmission_classification  \\\n",
       "0            75                 3          Local transmission   \n",
       "1            22                 1          Local transmission   \n",
       "2             3                 0          Local transmission   \n",
       "3             0                 0          Local transmission   \n",
       "4             0                 0          Local transmission   \n",
       "\n",
       "   Days_since_last_reported_case  \n",
       "0                              0  \n",
       "1                              0  \n",
       "2                              0  \n",
       "3                              0  \n",
       "4                              0  "
      ]
     },
     "execution_count": 168,
     "metadata": {},
     "output_type": "execute_result"
    }
   ],
   "source": [
    "df.head()"
   ]
  },
  {
   "cell_type": "code",
   "execution_count": 169,
   "metadata": {},
   "outputs": [
    {
     "data": {
      "text/plain": [
       "<matplotlib.axes._subplots.AxesSubplot at 0xdfb6b48>"
      ]
     },
     "execution_count": 169,
     "metadata": {},
     "output_type": "execute_result"
    },
    {
     "data": {
      "image/png": "[encoded data removed]",
      "text/plain": [
       "<Figure size 432x288 with 2 Axes>"
      ]
     },
     "metadata": {
      "needs_background": "light"
     },
     "output_type": "display_data"
    }
   ],
   "source": [
    "corr = df.corr()\n",
    "# Heatmap\n",
    "sns.heatmap(corr, annot=True, fmt=\".2f\")"
   ]
  },
  {
   "cell_type": "code",
   "execution_count": 170,
   "metadata": {},
   "outputs": [
    {
     "data": {
      "text/plain": [
       "array(['Local transmission', 'Imported cases only', 'Under investigation'],\n",
       "      dtype=object)"
      ]
     },
     "execution_count": 170,
     "metadata": {},
     "output_type": "execute_result"
    }
   ],
   "source": [
    "df['Transmission_classification'].unique()"
   ]
  },
  {
   "cell_type": "code",
   "execution_count": 171,
   "metadata": {},
   "outputs": [],
   "source": [
    "df['Transmission_classification'] = df['Transmission_classification'].astype('category')"
   ]
  },
  {
   "cell_type": "code",
   "execution_count": 172,
   "metadata": {},
   "outputs": [],
   "source": [
    "df['Transmission_classification_cat']= df['Transmission_classification'].cat.codes"
   ]
  },
  {
   "cell_type": "code",
   "execution_count": 173,
   "metadata": {},
   "outputs": [
    {
     "data": {
      "text/plain": [
       "Transmission_classification  Transmission_classification_cat\n",
       "Imported cases only          0                                  24\n",
       "Local transmission           1                                  64\n",
       "Under investigation          2                                   3\n",
       "dtype: int64"
      ]
     },
     "execution_count": 173,
     "metadata": {},
     "output_type": "execute_result"
    }
   ],
   "source": [
    "df.groupby(['Transmission_classification', 'Transmission_classification_cat']).size()"
   ]
  },
  {
   "cell_type": "code",
   "execution_count": 174,
   "metadata": {},
   "outputs": [
    {
     "data": {
      "text/plain": [
       "0     1\n",
       "1     1\n",
       "2     1\n",
       "3     1\n",
       "4     1\n",
       "     ..\n",
       "86    1\n",
       "87    0\n",
       "88    0\n",
       "89    0\n",
       "90    1\n",
       "Name: Transmission_classification_cat, Length: 91, dtype: int8"
      ]
     },
     "execution_count": 174,
     "metadata": {},
     "output_type": "execute_result"
    }
   ],
   "source": [
    "df['Transmission_classification_cat']"
   ]
  },
  {
   "cell_type": "code",
   "execution_count": 175,
   "metadata": {},
   "outputs": [
    {
     "data": {
      "text/html": [
       "<div>\n",
       "<style scoped>\n",
       "    .dataframe tbody tr th:only-of-type {\n",
       "        vertical-align: middle;\n",
       "    }\n",
       "\n",
       "    .dataframe tbody tr th {\n",
       "        vertical-align: top;\n",
       "    }\n",
       "\n",
       "    .dataframe thead th {\n",
       "        text-align: right;\n",
       "    }\n",
       "</style>\n",
       "<table border=\"1\" class=\"dataframe\">\n",
       "  <thead>\n",
       "    <tr style=\"text-align: right;\">\n",
       "      <th></th>\n",
       "      <th>Country</th>\n",
       "      <th>total_confirmed_cases</th>\n",
       "      <th>total_confirmed_new_cases</th>\n",
       "      <th>Total_deaths</th>\n",
       "      <th>Total_new_deaths</th>\n",
       "      <th>Transmission_classification</th>\n",
       "      <th>Days_since_last_reported_case</th>\n",
       "      <th>Transmission_classification_cat</th>\n",
       "    </tr>\n",
       "  </thead>\n",
       "  <tbody>\n",
       "    <tr>\n",
       "      <th>0</th>\n",
       "      <td>Republic of Korea</td>\n",
       "      <td>8162</td>\n",
       "      <td>76</td>\n",
       "      <td>75</td>\n",
       "      <td>3</td>\n",
       "      <td>Local transmission</td>\n",
       "      <td>0</td>\n",
       "      <td>1</td>\n",
       "    </tr>\n",
       "    <tr>\n",
       "      <th>1</th>\n",
       "      <td>Japan</td>\n",
       "      <td>780</td>\n",
       "      <td>64</td>\n",
       "      <td>22</td>\n",
       "      <td>1</td>\n",
       "      <td>Local transmission</td>\n",
       "      <td>0</td>\n",
       "      <td>1</td>\n",
       "    </tr>\n",
       "    <tr>\n",
       "      <th>2</th>\n",
       "      <td>Australia</td>\n",
       "      <td>249</td>\n",
       "      <td>52</td>\n",
       "      <td>3</td>\n",
       "      <td>0</td>\n",
       "      <td>Local transmission</td>\n",
       "      <td>0</td>\n",
       "      <td>1</td>\n",
       "    </tr>\n",
       "    <tr>\n",
       "      <th>3</th>\n",
       "      <td>Malaysia</td>\n",
       "      <td>238</td>\n",
       "      <td>41</td>\n",
       "      <td>0</td>\n",
       "      <td>0</td>\n",
       "      <td>Local transmission</td>\n",
       "      <td>0</td>\n",
       "      <td>1</td>\n",
       "    </tr>\n",
       "    <tr>\n",
       "      <th>4</th>\n",
       "      <td>Singapore</td>\n",
       "      <td>212</td>\n",
       "      <td>12</td>\n",
       "      <td>0</td>\n",
       "      <td>0</td>\n",
       "      <td>Local transmission</td>\n",
       "      <td>0</td>\n",
       "      <td>1</td>\n",
       "    </tr>\n",
       "  </tbody>\n",
       "</table>\n",
       "</div>"
      ],
      "text/plain": [
       "             Country  total_confirmed_cases  total_confirmed_new_cases  \\\n",
       "0  Republic of Korea                   8162                         76   \n",
       "1              Japan                    780                         64   \n",
       "2          Australia                    249                         52   \n",
       "3           Malaysia                    238                         41   \n",
       "4          Singapore                    212                         12   \n",
       "\n",
       "   Total_deaths  Total_new_deaths Transmission_classification  \\\n",
       "0            75                 3          Local transmission   \n",
       "1            22                 1          Local transmission   \n",
       "2             3                 0          Local transmission   \n",
       "3             0                 0          Local transmission   \n",
       "4             0                 0          Local transmission   \n",
       "\n",
       "   Days_since_last_reported_case  Transmission_classification_cat  \n",
       "0                              0                                1  \n",
       "1                              0                                1  \n",
       "2                              0                                1  \n",
       "3                              0                                1  \n",
       "4                              0                                1  "
      ]
     },
     "execution_count": 175,
     "metadata": {},
     "output_type": "execute_result"
    }
   ],
   "source": [
    "df.head()"
   ]
  },
  {
   "cell_type": "code",
   "execution_count": 176,
   "metadata": {},
   "outputs": [
    {
     "data": {
      "text/plain": [
       "<matplotlib.axes._subplots.AxesSubplot at 0xe082248>"
      ]
     },
     "execution_count": 176,
     "metadata": {},
     "output_type": "execute_result"
    },
    {
     "data": {
      "image/png": "[encoded data removed]",
      "text/plain": [
       "<Figure size 432x288 with 2 Axes>"
      ]
     },
     "metadata": {
      "needs_background": "light"
     },
     "output_type": "display_data"
    }
   ],
   "source": [
    "corr = df.corr()\n",
    "# Heatmap\n",
    "sns.heatmap(corr, annot=True, fmt=\".2f\")"
   ]
  },
  {
   "cell_type": "code",
   "execution_count": 177,
   "metadata": {},
   "outputs": [
    {
     "data": {
      "text/plain": [
       "array([1, 0, 2], dtype=int64)"
      ]
     },
     "execution_count": 177,
     "metadata": {},
     "output_type": "execute_result"
    }
   ],
   "source": [
    "\n",
    "# if(df['Transmission_classification_cat'] == 0):\n",
    "#     df[['Total_deaths','Transmission_classification_cat']].head(15).plot(kind='barh', figsize=(10,5))\n",
    "df['Transmission_classification_cat'].unique()"
   ]
  },
  {
   "cell_type": "code",
   "execution_count": 178,
   "metadata": {},
   "outputs": [],
   "source": [
    "# for i in df['Transmission_classification_cat']:\n",
    "#     if(i==0):\n",
    "        "
   ]
  },
  {
   "cell_type": "code",
   "execution_count": 236,
   "metadata": {},
   "outputs": [],
   "source": [
    "df1 = df[['Transmission_classification_cat','Total_deaths']]"
   ]
  },
  {
   "cell_type": "code",
   "execution_count": 237,
   "metadata": {},
   "outputs": [
    {
     "data": {
      "text/html": [
       "<div>\n",
       "<style scoped>\n",
       "    .dataframe tbody tr th:only-of-type {\n",
       "        vertical-align: middle;\n",
       "    }\n",
       "\n",
       "    .dataframe tbody tr th {\n",
       "        vertical-align: top;\n",
       "    }\n",
       "\n",
       "    .dataframe thead th {\n",
       "        text-align: right;\n",
       "    }\n",
       "</style>\n",
       "<table border=\"1\" class=\"dataframe\">\n",
       "  <thead>\n",
       "    <tr style=\"text-align: right;\">\n",
       "      <th></th>\n",
       "      <th>Transmission_classification_cat</th>\n",
       "      <th>Total_deaths</th>\n",
       "    </tr>\n",
       "  </thead>\n",
       "  <tbody>\n",
       "    <tr>\n",
       "      <th>0</th>\n",
       "      <td>1</td>\n",
       "      <td>75</td>\n",
       "    </tr>\n",
       "    <tr>\n",
       "      <th>1</th>\n",
       "      <td>1</td>\n",
       "      <td>22</td>\n",
       "    </tr>\n",
       "    <tr>\n",
       "      <th>2</th>\n",
       "      <td>1</td>\n",
       "      <td>3</td>\n",
       "    </tr>\n",
       "    <tr>\n",
       "      <th>3</th>\n",
       "      <td>1</td>\n",
       "      <td>0</td>\n",
       "    </tr>\n",
       "    <tr>\n",
       "      <th>4</th>\n",
       "      <td>1</td>\n",
       "      <td>0</td>\n",
       "    </tr>\n",
       "  </tbody>\n",
       "</table>\n",
       "</div>"
      ],
      "text/plain": [
       "   Transmission_classification_cat  Total_deaths\n",
       "0                                1            75\n",
       "1                                1            22\n",
       "2                                1             3\n",
       "3                                1             0\n",
       "4                                1             0"
      ]
     },
     "execution_count": 237,
     "metadata": {},
     "output_type": "execute_result"
    }
   ],
   "source": [
    "df1.head()"
   ]
  },
  {
   "cell_type": "code",
   "execution_count": 238,
   "metadata": {},
   "outputs": [
    {
     "data": {
      "text/plain": [
       "array([1, 0, 2], dtype=int64)"
      ]
     },
     "execution_count": 238,
     "metadata": {},
     "output_type": "execute_result"
    }
   ],
   "source": [
    "df1['Transmission_classification_cat'].unique()"
   ]
  },
  {
   "cell_type": "code",
   "execution_count": 240,
   "metadata": {},
   "outputs": [
    {
     "name": "stderr",
     "output_type": "stream",
     "text": [
      "C:\\Users\\Shubham.Borghare\\anaconda3\\lib\\site-packages\\ipykernel_launcher.py:1: SettingWithCopyWarning: \n",
      "A value is trying to be set on a copy of a slice from a DataFrame.\n",
      "Try using .loc[row_indexer,col_indexer] = value instead\n",
      "\n",
      "See the caveats in the documentation: http://pandas.pydata.org/pandas-docs/stable/user_guide/indexing.html#returning-a-view-versus-a-copy\n",
      "  \"\"\"Entry point for launching an IPython kernel.\n",
      "C:\\Users\\Shubham.Borghare\\anaconda3\\lib\\site-packages\\ipykernel_launcher.py:2: SettingWithCopyWarning: \n",
      "A value is trying to be set on a copy of a slice from a DataFrame.\n",
      "Try using .loc[row_indexer,col_indexer] = value instead\n",
      "\n",
      "See the caveats in the documentation: http://pandas.pydata.org/pandas-docs/stable/user_guide/indexing.html#returning-a-view-versus-a-copy\n",
      "  \n"
     ]
    }
   ],
   "source": [
    "df1['Country'] = df['Country']\n",
    "df1['Total_confirmed'] = df['total_confirmed_cases']"
   ]
  },
  {
   "cell_type": "code",
   "execution_count": 241,
   "metadata": {},
   "outputs": [
    {
     "data": {
      "text/html": [
       "<div>\n",
       "<style scoped>\n",
       "    .dataframe tbody tr th:only-of-type {\n",
       "        vertical-align: middle;\n",
       "    }\n",
       "\n",
       "    .dataframe tbody tr th {\n",
       "        vertical-align: top;\n",
       "    }\n",
       "\n",
       "    .dataframe thead th {\n",
       "        text-align: right;\n",
       "    }\n",
       "</style>\n",
       "<table border=\"1\" class=\"dataframe\">\n",
       "  <thead>\n",
       "    <tr style=\"text-align: right;\">\n",
       "      <th></th>\n",
       "      <th>Transmission_classification_cat</th>\n",
       "      <th>Total_deaths</th>\n",
       "      <th>Country</th>\n",
       "      <th>Total_confirmed</th>\n",
       "    </tr>\n",
       "  </thead>\n",
       "  <tbody>\n",
       "    <tr>\n",
       "      <th>0</th>\n",
       "      <td>1</td>\n",
       "      <td>75</td>\n",
       "      <td>Republic of Korea</td>\n",
       "      <td>8162</td>\n",
       "    </tr>\n",
       "    <tr>\n",
       "      <th>1</th>\n",
       "      <td>1</td>\n",
       "      <td>22</td>\n",
       "      <td>Japan</td>\n",
       "      <td>780</td>\n",
       "    </tr>\n",
       "    <tr>\n",
       "      <th>2</th>\n",
       "      <td>1</td>\n",
       "      <td>3</td>\n",
       "      <td>Australia</td>\n",
       "      <td>249</td>\n",
       "    </tr>\n",
       "    <tr>\n",
       "      <th>3</th>\n",
       "      <td>1</td>\n",
       "      <td>0</td>\n",
       "      <td>Malaysia</td>\n",
       "      <td>238</td>\n",
       "    </tr>\n",
       "    <tr>\n",
       "      <th>4</th>\n",
       "      <td>1</td>\n",
       "      <td>0</td>\n",
       "      <td>Singapore</td>\n",
       "      <td>212</td>\n",
       "    </tr>\n",
       "  </tbody>\n",
       "</table>\n",
       "</div>"
      ],
      "text/plain": [
       "   Transmission_classification_cat  Total_deaths            Country  \\\n",
       "0                                1            75  Republic of Korea   \n",
       "1                                1            22              Japan   \n",
       "2                                1             3          Australia   \n",
       "3                                1             0           Malaysia   \n",
       "4                                1             0          Singapore   \n",
       "\n",
       "   Total_confirmed  \n",
       "0             8162  \n",
       "1              780  \n",
       "2              249  \n",
       "3              238  \n",
       "4              212  "
      ]
     },
     "execution_count": 241,
     "metadata": {},
     "output_type": "execute_result"
    }
   ],
   "source": [
    "df1.head()"
   ]
  },
  {
   "cell_type": "code",
   "execution_count": 242,
   "metadata": {},
   "outputs": [],
   "source": [
    "df1= df1.set_index('Country')"
   ]
  },
  {
   "cell_type": "code",
   "execution_count": 243,
   "metadata": {},
   "outputs": [
    {
     "data": {
      "text/html": [
       "<div>\n",
       "<style scoped>\n",
       "    .dataframe tbody tr th:only-of-type {\n",
       "        vertical-align: middle;\n",
       "    }\n",
       "\n",
       "    .dataframe tbody tr th {\n",
       "        vertical-align: top;\n",
       "    }\n",
       "\n",
       "    .dataframe thead th {\n",
       "        text-align: right;\n",
       "    }\n",
       "</style>\n",
       "<table border=\"1\" class=\"dataframe\">\n",
       "  <thead>\n",
       "    <tr style=\"text-align: right;\">\n",
       "      <th></th>\n",
       "      <th>Transmission_classification_cat</th>\n",
       "      <th>Total_deaths</th>\n",
       "      <th>Total_confirmed</th>\n",
       "    </tr>\n",
       "    <tr>\n",
       "      <th>Country</th>\n",
       "      <th></th>\n",
       "      <th></th>\n",
       "      <th></th>\n",
       "    </tr>\n",
       "  </thead>\n",
       "  <tbody>\n",
       "    <tr>\n",
       "      <th>Republic of Korea</th>\n",
       "      <td>1</td>\n",
       "      <td>75</td>\n",
       "      <td>8162</td>\n",
       "    </tr>\n",
       "    <tr>\n",
       "      <th>Japan</th>\n",
       "      <td>1</td>\n",
       "      <td>22</td>\n",
       "      <td>780</td>\n",
       "    </tr>\n",
       "    <tr>\n",
       "      <th>Australia</th>\n",
       "      <td>1</td>\n",
       "      <td>3</td>\n",
       "      <td>249</td>\n",
       "    </tr>\n",
       "    <tr>\n",
       "      <th>Malaysia</th>\n",
       "      <td>1</td>\n",
       "      <td>0</td>\n",
       "      <td>238</td>\n",
       "    </tr>\n",
       "    <tr>\n",
       "      <th>Singapore</th>\n",
       "      <td>1</td>\n",
       "      <td>0</td>\n",
       "      <td>212</td>\n",
       "    </tr>\n",
       "  </tbody>\n",
       "</table>\n",
       "</div>"
      ],
      "text/plain": [
       "                   Transmission_classification_cat  Total_deaths  \\\n",
       "Country                                                            \n",
       "Republic of Korea                                1            75   \n",
       "Japan                                            1            22   \n",
       "Australia                                        1             3   \n",
       "Malaysia                                         1             0   \n",
       "Singapore                                        1             0   \n",
       "\n",
       "                   Total_confirmed  \n",
       "Country                             \n",
       "Republic of Korea             8162  \n",
       "Japan                          780  \n",
       "Australia                      249  \n",
       "Malaysia                       238  \n",
       "Singapore                      212  "
      ]
     },
     "execution_count": 243,
     "metadata": {},
     "output_type": "execute_result"
    }
   ],
   "source": [
    "df1.head()"
   ]
  },
  {
   "cell_type": "code",
   "execution_count": 257,
   "metadata": {},
   "outputs": [
    {
     "data": {
      "text/plain": [
       "21157"
      ]
     },
     "execution_count": 257,
     "metadata": {},
     "output_type": "execute_result"
    }
   ],
   "source": [
    "df1['Total_confirmed'].max()"
   ]
  },
  {
   "cell_type": "code",
   "execution_count": 269,
   "metadata": {},
   "outputs": [
    {
     "data": {
      "text/html": [
       "<div>\n",
       "<style scoped>\n",
       "    .dataframe tbody tr th:only-of-type {\n",
       "        vertical-align: middle;\n",
       "    }\n",
       "\n",
       "    .dataframe tbody tr th {\n",
       "        vertical-align: top;\n",
       "    }\n",
       "\n",
       "    .dataframe thead th {\n",
       "        text-align: right;\n",
       "    }\n",
       "</style>\n",
       "<table border=\"1\" class=\"dataframe\">\n",
       "  <thead>\n",
       "    <tr style=\"text-align: right;\">\n",
       "      <th></th>\n",
       "      <th>Total_deaths</th>\n",
       "      <th>Total_confirmed</th>\n",
       "    </tr>\n",
       "    <tr>\n",
       "      <th>Transmission_classification_cat</th>\n",
       "      <th></th>\n",
       "      <th></th>\n",
       "    </tr>\n",
       "  </thead>\n",
       "  <tbody>\n",
       "    <tr>\n",
       "      <th>1</th>\n",
       "      <td>75</td>\n",
       "      <td>8162</td>\n",
       "    </tr>\n",
       "    <tr>\n",
       "      <th>1</th>\n",
       "      <td>22</td>\n",
       "      <td>780</td>\n",
       "    </tr>\n",
       "    <tr>\n",
       "      <th>1</th>\n",
       "      <td>3</td>\n",
       "      <td>249</td>\n",
       "    </tr>\n",
       "    <tr>\n",
       "      <th>1</th>\n",
       "      <td>0</td>\n",
       "      <td>238</td>\n",
       "    </tr>\n",
       "    <tr>\n",
       "      <th>1</th>\n",
       "      <td>0</td>\n",
       "      <td>212</td>\n",
       "    </tr>\n",
       "    <tr>\n",
       "      <th>1</th>\n",
       "      <td>6</td>\n",
       "      <td>111</td>\n",
       "    </tr>\n",
       "    <tr>\n",
       "      <th>1</th>\n",
       "      <td>0</td>\n",
       "      <td>53</td>\n",
       "    </tr>\n",
       "    <tr>\n",
       "      <th>1</th>\n",
       "      <td>0</td>\n",
       "      <td>40</td>\n",
       "    </tr>\n",
       "    <tr>\n",
       "      <th>1</th>\n",
       "      <td>0</td>\n",
       "      <td>7</td>\n",
       "    </tr>\n",
       "    <tr>\n",
       "      <th>1</th>\n",
       "      <td>0</td>\n",
       "      <td>6</td>\n",
       "    </tr>\n",
       "    <tr>\n",
       "      <th>0</th>\n",
       "      <td>0</td>\n",
       "      <td>1</td>\n",
       "    </tr>\n",
       "    <tr>\n",
       "      <th>0</th>\n",
       "      <td>0</td>\n",
       "      <td>3</td>\n",
       "    </tr>\n",
       "    <tr>\n",
       "      <th>1</th>\n",
       "      <td>1441</td>\n",
       "      <td>21157</td>\n",
       "    </tr>\n",
       "    <tr>\n",
       "      <th>1</th>\n",
       "      <td>136</td>\n",
       "      <td>5753</td>\n",
       "    </tr>\n",
       "    <tr>\n",
       "      <th>1</th>\n",
       "      <td>91</td>\n",
       "      <td>4469</td>\n",
       "    </tr>\n",
       "    <tr>\n",
       "      <th>1</th>\n",
       "      <td>8</td>\n",
       "      <td>3795</td>\n",
       "    </tr>\n",
       "    <tr>\n",
       "      <th>1</th>\n",
       "      <td>11</td>\n",
       "      <td>1359</td>\n",
       "    </tr>\n",
       "    <tr>\n",
       "      <th>1</th>\n",
       "      <td>21</td>\n",
       "      <td>1144</td>\n",
       "    </tr>\n",
       "    <tr>\n",
       "      <th>1</th>\n",
       "      <td>12</td>\n",
       "      <td>959</td>\n",
       "    </tr>\n",
       "    <tr>\n",
       "      <th>1</th>\n",
       "      <td>0</td>\n",
       "      <td>924</td>\n",
       "    </tr>\n",
       "    <tr>\n",
       "      <th>1</th>\n",
       "      <td>1</td>\n",
       "      <td>907</td>\n",
       "    </tr>\n",
       "    <tr>\n",
       "      <th>1</th>\n",
       "      <td>0</td>\n",
       "      <td>827</td>\n",
       "    </tr>\n",
       "    <tr>\n",
       "      <th>1</th>\n",
       "      <td>1</td>\n",
       "      <td>800</td>\n",
       "    </tr>\n",
       "    <tr>\n",
       "      <th>1</th>\n",
       "      <td>0</td>\n",
       "      <td>689</td>\n",
       "    </tr>\n",
       "    <tr>\n",
       "      <th>1</th>\n",
       "      <td>2</td>\n",
       "      <td>228</td>\n",
       "    </tr>\n",
       "    <tr>\n",
       "      <th>1</th>\n",
       "      <td>0</td>\n",
       "      <td>214</td>\n",
       "    </tr>\n",
       "    <tr>\n",
       "      <th>1</th>\n",
       "      <td>0</td>\n",
       "      <td>210</td>\n",
       "    </tr>\n",
       "    <tr>\n",
       "      <th>1</th>\n",
       "      <td>0</td>\n",
       "      <td>178</td>\n",
       "    </tr>\n",
       "    <tr>\n",
       "      <th>1</th>\n",
       "      <td>0</td>\n",
       "      <td>141</td>\n",
       "    </tr>\n",
       "    <tr>\n",
       "      <th>1</th>\n",
       "      <td>0</td>\n",
       "      <td>138</td>\n",
       "    </tr>\n",
       "    <tr>\n",
       "      <th>1</th>\n",
       "      <td>2</td>\n",
       "      <td>129</td>\n",
       "    </tr>\n",
       "    <tr>\n",
       "      <th>1</th>\n",
       "      <td>0</td>\n",
       "      <td>123</td>\n",
       "    </tr>\n",
       "    <tr>\n",
       "      <th>1</th>\n",
       "      <td>0</td>\n",
       "      <td>112</td>\n",
       "    </tr>\n",
       "    <tr>\n",
       "      <th>1</th>\n",
       "      <td>3</td>\n",
       "      <td>111</td>\n",
       "    </tr>\n",
       "    <tr>\n",
       "      <th>1</th>\n",
       "      <td>5</td>\n",
       "      <td>92</td>\n",
       "    </tr>\n",
       "    <tr>\n",
       "      <th>1</th>\n",
       "      <td>0</td>\n",
       "      <td>79</td>\n",
       "    </tr>\n",
       "    <tr>\n",
       "      <th>1</th>\n",
       "      <td>0</td>\n",
       "      <td>44</td>\n",
       "    </tr>\n",
       "    <tr>\n",
       "      <th>1</th>\n",
       "      <td>2</td>\n",
       "      <td>43</td>\n",
       "    </tr>\n",
       "    <tr>\n",
       "      <th>1</th>\n",
       "      <td>0</td>\n",
       "      <td>41</td>\n",
       "    </tr>\n",
       "    <tr>\n",
       "      <th>1</th>\n",
       "      <td>1</td>\n",
       "      <td>38</td>\n",
       "    </tr>\n",
       "    <tr>\n",
       "      <th>1</th>\n",
       "      <td>1</td>\n",
       "      <td>38</td>\n",
       "    </tr>\n",
       "    <tr>\n",
       "      <th>1</th>\n",
       "      <td>0</td>\n",
       "      <td>37</td>\n",
       "    </tr>\n",
       "    <tr>\n",
       "      <th>0</th>\n",
       "      <td>0</td>\n",
       "      <td>34</td>\n",
       "    </tr>\n",
       "    <tr>\n",
       "      <th>1</th>\n",
       "      <td>0</td>\n",
       "      <td>32</td>\n",
       "    </tr>\n",
       "    <tr>\n",
       "      <th>0</th>\n",
       "      <td>0</td>\n",
       "      <td>30</td>\n",
       "    </tr>\n",
       "    <tr>\n",
       "      <th>0</th>\n",
       "      <td>0</td>\n",
       "      <td>30</td>\n",
       "    </tr>\n",
       "    <tr>\n",
       "      <th>1</th>\n",
       "      <td>0</td>\n",
       "      <td>21</td>\n",
       "    </tr>\n",
       "    <tr>\n",
       "      <th>0</th>\n",
       "      <td>0</td>\n",
       "      <td>21</td>\n",
       "    </tr>\n",
       "    <tr>\n",
       "      <th>0</th>\n",
       "      <td>0</td>\n",
       "      <td>19</td>\n",
       "    </tr>\n",
       "    <tr>\n",
       "      <th>1</th>\n",
       "      <td>0</td>\n",
       "      <td>18</td>\n",
       "    </tr>\n",
       "  </tbody>\n",
       "</table>\n",
       "</div>"
      ],
      "text/plain": [
       "                                 Total_deaths  Total_confirmed\n",
       "Transmission_classification_cat                               \n",
       "1                                          75             8162\n",
       "1                                          22              780\n",
       "1                                           3              249\n",
       "1                                           0              238\n",
       "1                                           0              212\n",
       "1                                           6              111\n",
       "1                                           0               53\n",
       "1                                           0               40\n",
       "1                                           0                7\n",
       "1                                           0                6\n",
       "0                                           0                1\n",
       "0                                           0                3\n",
       "1                                        1441            21157\n",
       "1                                         136             5753\n",
       "1                                          91             4469\n",
       "1                                           8             3795\n",
       "1                                          11             1359\n",
       "1                                          21             1144\n",
       "1                                          12              959\n",
       "1                                           0              924\n",
       "1                                           1              907\n",
       "1                                           0              827\n",
       "1                                           1              800\n",
       "1                                           0              689\n",
       "1                                           2              228\n",
       "1                                           0              214\n",
       "1                                           0              210\n",
       "1                                           0              178\n",
       "1                                           0              141\n",
       "1                                           0              138\n",
       "1                                           2              129\n",
       "1                                           0              123\n",
       "1                                           0              112\n",
       "1                                           3              111\n",
       "1                                           5               92\n",
       "1                                           0               79\n",
       "1                                           0               44\n",
       "1                                           2               43\n",
       "1                                           0               41\n",
       "1                                           1               38\n",
       "1                                           1               38\n",
       "1                                           0               37\n",
       "0                                           0               34\n",
       "1                                           0               32\n",
       "0                                           0               30\n",
       "0                                           0               30\n",
       "1                                           0               21\n",
       "0                                           0               21\n",
       "0                                           0               19\n",
       "1                                           0               18"
      ]
     },
     "execution_count": 269,
     "metadata": {},
     "output_type": "execute_result"
    }
   ],
   "source": [
    "df1.head(50)"
   ]
  },
  {
   "cell_type": "code",
   "execution_count": 271,
   "metadata": {},
   "outputs": [
    {
     "data": {
      "text/html": [
       "<div>\n",
       "<style scoped>\n",
       "    .dataframe tbody tr th:only-of-type {\n",
       "        vertical-align: middle;\n",
       "    }\n",
       "\n",
       "    .dataframe tbody tr th {\n",
       "        vertical-align: top;\n",
       "    }\n",
       "\n",
       "    .dataframe thead th {\n",
       "        text-align: right;\n",
       "    }\n",
       "</style>\n",
       "<table border=\"1\" class=\"dataframe\">\n",
       "  <thead>\n",
       "    <tr style=\"text-align: right;\">\n",
       "      <th></th>\n",
       "      <th>Total_deaths</th>\n",
       "      <th>Total_confirmed</th>\n",
       "    </tr>\n",
       "    <tr>\n",
       "      <th>Transmission_classification_cat</th>\n",
       "      <th></th>\n",
       "      <th></th>\n",
       "    </tr>\n",
       "  </thead>\n",
       "  <tbody>\n",
       "    <tr>\n",
       "      <th>1</th>\n",
       "      <td>75</td>\n",
       "      <td>8162</td>\n",
       "    </tr>\n",
       "    <tr>\n",
       "      <th>1</th>\n",
       "      <td>22</td>\n",
       "      <td>780</td>\n",
       "    </tr>\n",
       "    <tr>\n",
       "      <th>1</th>\n",
       "      <td>3</td>\n",
       "      <td>249</td>\n",
       "    </tr>\n",
       "    <tr>\n",
       "      <th>1</th>\n",
       "      <td>0</td>\n",
       "      <td>238</td>\n",
       "    </tr>\n",
       "    <tr>\n",
       "      <th>1</th>\n",
       "      <td>0</td>\n",
       "      <td>212</td>\n",
       "    </tr>\n",
       "  </tbody>\n",
       "</table>\n",
       "</div>"
      ],
      "text/plain": [
       "                                 Total_deaths  Total_confirmed\n",
       "Transmission_classification_cat                               \n",
       "1                                          75             8162\n",
       "1                                          22              780\n",
       "1                                           3              249\n",
       "1                                           0              238\n",
       "1                                           0              212"
      ]
     },
     "execution_count": 271,
     "metadata": {},
     "output_type": "execute_result"
    }
   ],
   "source": [
    "df1.head()"
   ]
  },
  {
   "cell_type": "code",
   "execution_count": 278,
   "metadata": {},
   "outputs": [
    {
     "data": {
      "text/plain": [
       "(0, 21157)"
      ]
     },
     "execution_count": 278,
     "metadata": {},
     "output_type": "execute_result"
    },
    {
     "data": {
      "image/png": "[encoded data removed]",
      "text/plain": [
       "<Figure size 720x1440 with 1 Axes>"
      ]
     },
     "metadata": {
      "needs_background": "light"
     },
     "output_type": "display_data"
    }
   ],
   "source": [
    "import numpy as np\n",
    "# plt.xticks(np.arange(0, 21157, 50))\n",
    "# plt.xlim(0, 21157, 40)\n",
    "ax = plt.subplot(111)\n",
    "df1[['Total_confirmed']].head(45).plot(kind='barh', ax=ax, figsize=(10,20))\n",
    "ax.set_xlim(0,21157, 50)\n",
    "# plt.xticks(np.arange(0, 21157, 50))"
   ]
  },
  {
   "cell_type": "code",
   "execution_count": 229,
   "metadata": {},
   "outputs": [],
   "source": [
    "#sns.catplot(x=\"Total_deaths\", y=\"Country\", hue=\"Transmission_classification_cat\", kind=\"swarm\", data=df1);"
   ]
  },
  {
   "cell_type": "code",
   "execution_count": null,
   "metadata": {},
   "outputs": [],
   "source": []
  },
  {
   "cell_type": "code",
   "execution_count": 196,
   "metadata": {},
   "outputs": [
    {
     "data": {
      "text/plain": [
       "array([1, 0, 2], dtype=int64)"
      ]
     },
     "execution_count": 196,
     "metadata": {},
     "output_type": "execute_result"
    }
   ],
   "source": [
    "df1['Transmission_classification_cat'].unique()"
   ]
  },
  {
   "cell_type": "code",
   "execution_count": 219,
   "metadata": {},
   "outputs": [],
   "source": [
    "#df1[['Total_deaths']].head(15).plot(kind='barh', figsize=(10,5))"
   ]
  },
  {
   "cell_type": "code",
   "execution_count": 220,
   "metadata": {},
   "outputs": [],
   "source": [
    "# df2 = df1.set_index('Transmission_classification_cat_1')\n",
    "\n",
    "# df2[['Total_deaths']].head(15).plot(kind='barh', figsize=(10,5))"
   ]
  },
  {
   "cell_type": "code",
   "execution_count": 221,
   "metadata": {},
   "outputs": [],
   "source": [
    "# df3 = df1.set_index('Transmission_classification_cat_2')\n",
    "\n",
    "# df3[['Total_deaths']].head(15).plot(kind='barh', figsize=(10,5))"
   ]
  },
  {
   "cell_type": "code",
   "execution_count": 222,
   "metadata": {},
   "outputs": [],
   "source": [
    "# # test code\n",
    "\n",
    "# df[['Total_deaths','Transmission_classification_cat']].head(15).plot(kind='barh', figsize=(10,5))"
   ]
  },
  {
   "cell_type": "code",
   "execution_count": 85,
   "metadata": {},
   "outputs": [
    {
     "data": {
      "text/plain": [
       "0    8162\n",
       "1     780\n",
       "2     249\n",
       "3     238\n",
       "4     212\n",
       "5     111\n",
       "6      53\n",
       "7      40\n",
       "8       7\n",
       "9       6\n",
       "Name: total_confirmed_cases, dtype: int64"
      ]
     },
     "execution_count": 85,
     "metadata": {},
     "output_type": "execute_result"
    }
   ],
   "source": [
    "df['total_confirmed_cases'].head(10)"
   ]
  },
  {
   "cell_type": "code",
   "execution_count": 87,
   "metadata": {},
   "outputs": [
    {
     "data": {
      "text/html": [
       "<div>\n",
       "<style scoped>\n",
       "    .dataframe tbody tr th:only-of-type {\n",
       "        vertical-align: middle;\n",
       "    }\n",
       "\n",
       "    .dataframe tbody tr th {\n",
       "        vertical-align: top;\n",
       "    }\n",
       "\n",
       "    .dataframe thead th {\n",
       "        text-align: right;\n",
       "    }\n",
       "</style>\n",
       "<table border=\"1\" class=\"dataframe\">\n",
       "  <thead>\n",
       "    <tr style=\"text-align: right;\">\n",
       "      <th></th>\n",
       "      <th>Country</th>\n",
       "      <th>total_confirmed_cases</th>\n",
       "      <th>total_confirmed_new_cases</th>\n",
       "      <th>Total_deaths</th>\n",
       "      <th>Total_new_deaths</th>\n",
       "      <th>Transmission_classification</th>\n",
       "      <th>Days_since_last_reported_case</th>\n",
       "      <th>Transmission_classification_cat</th>\n",
       "    </tr>\n",
       "  </thead>\n",
       "  <tbody>\n",
       "    <tr>\n",
       "      <th>0</th>\n",
       "      <td>Republic of Korea</td>\n",
       "      <td>8162</td>\n",
       "      <td>76</td>\n",
       "      <td>75</td>\n",
       "      <td>3</td>\n",
       "      <td>Local transmission</td>\n",
       "      <td>0</td>\n",
       "      <td>1</td>\n",
       "    </tr>\n",
       "    <tr>\n",
       "      <th>1</th>\n",
       "      <td>Japan</td>\n",
       "      <td>780</td>\n",
       "      <td>64</td>\n",
       "      <td>22</td>\n",
       "      <td>1</td>\n",
       "      <td>Local transmission</td>\n",
       "      <td>0</td>\n",
       "      <td>1</td>\n",
       "    </tr>\n",
       "    <tr>\n",
       "      <th>2</th>\n",
       "      <td>Australia</td>\n",
       "      <td>249</td>\n",
       "      <td>52</td>\n",
       "      <td>3</td>\n",
       "      <td>0</td>\n",
       "      <td>Local transmission</td>\n",
       "      <td>0</td>\n",
       "      <td>1</td>\n",
       "    </tr>\n",
       "    <tr>\n",
       "      <th>3</th>\n",
       "      <td>Malaysia</td>\n",
       "      <td>238</td>\n",
       "      <td>41</td>\n",
       "      <td>0</td>\n",
       "      <td>0</td>\n",
       "      <td>Local transmission</td>\n",
       "      <td>0</td>\n",
       "      <td>1</td>\n",
       "    </tr>\n",
       "    <tr>\n",
       "      <th>4</th>\n",
       "      <td>Singapore</td>\n",
       "      <td>212</td>\n",
       "      <td>12</td>\n",
       "      <td>0</td>\n",
       "      <td>0</td>\n",
       "      <td>Local transmission</td>\n",
       "      <td>0</td>\n",
       "      <td>1</td>\n",
       "    </tr>\n",
       "  </tbody>\n",
       "</table>\n",
       "</div>"
      ],
      "text/plain": [
       "             Country  total_confirmed_cases  total_confirmed_new_cases  \\\n",
       "0  Republic of Korea                   8162                         76   \n",
       "1              Japan                    780                         64   \n",
       "2          Australia                    249                         52   \n",
       "3           Malaysia                    238                         41   \n",
       "4          Singapore                    212                         12   \n",
       "\n",
       "   Total_deaths  Total_new_deaths Transmission_classification  \\\n",
       "0            75                 3          Local transmission   \n",
       "1            22                 1          Local transmission   \n",
       "2             3                 0          Local transmission   \n",
       "3             0                 0          Local transmission   \n",
       "4             0                 0          Local transmission   \n",
       "\n",
       "   Days_since_last_reported_case  Transmission_classification_cat  \n",
       "0                              0                                1  \n",
       "1                              0                                1  \n",
       "2                              0                                1  \n",
       "3                              0                                1  \n",
       "4                              0                                1  "
      ]
     },
     "execution_count": 87,
     "metadata": {},
     "output_type": "execute_result"
    }
   ],
   "source": [
    "#df = df.drop(columns = '')\n",
    "df.head()"
   ]
  },
  {
   "cell_type": "code",
   "execution_count": 88,
   "metadata": {},
   "outputs": [],
   "source": [
    "df= df.set_index('Country')"
   ]
  },
  {
   "cell_type": "code",
   "execution_count": 89,
   "metadata": {},
   "outputs": [
    {
     "data": {
      "text/plain": [
       "<matplotlib.axes._subplots.AxesSubplot at 0xc8a6588>"
      ]
     },
     "execution_count": 89,
     "metadata": {},
     "output_type": "execute_result"
    },
    {
     "data": {
      "image/png": "[encoded data removed]",
      "text/plain": [
       "<Figure size 720x360 with 1 Axes>"
      ]
     },
     "metadata": {
      "needs_background": "light"
     },
     "output_type": "display_data"
    }
   ],
   "source": [
    "df[['total_confirmed_cases']].head(15).plot(kind='barh', figsize=(10,5))"
   ]
  },
  {
   "cell_type": "markdown",
   "metadata": {},
   "source": [
    "#### Maximum Confirmed Cases By Country"
   ]
  },
  {
   "cell_type": "code",
   "execution_count": null,
   "metadata": {},
   "outputs": [],
   "source": [
    "df[df['total_confirmed_cases'] == df['total_confirmed_cases'].max()]"
   ]
  },
  {
   "cell_type": "markdown",
   "metadata": {},
   "source": [
    "#### Minimum Confirmed Cases By Country"
   ]
  },
  {
   "cell_type": "code",
   "execution_count": null,
   "metadata": {},
   "outputs": [],
   "source": [
    "df[df['total_confirmed_cases'] == df['total_confirmed_cases'].min()]"
   ]
  },
  {
   "cell_type": "code",
   "execution_count": null,
   "metadata": {},
   "outputs": [],
   "source": [
    "corr = df.corr()\n",
    "# Heatmap\n",
    "sns.heatmap(corr, annot=True, fmt=\".2f\")"
   ]
  },
  {
   "cell_type": "code",
   "execution_count": null,
   "metadata": {},
   "outputs": [],
   "source": [
    "fig_size = plt.rcParams[\"figure.figsize\"]\n",
    "fig_size[0] = 16\n",
    "fig_size[1] = 12\n",
    "plt.rcParams[\"figure.figsize\"] = fig_size"
   ]
  },
  {
   "cell_type": "code",
   "execution_count": null,
   "metadata": {},
   "outputs": [],
   "source": [
    "gg = df['Country'].head(10)"
   ]
  },
  {
   "cell_type": "code",
   "execution_count": null,
   "metadata": {},
   "outputs": [],
   "source": [
    "# plt.plot(gg, df['total_confirmed_cases'])"
   ]
  },
  {
   "cell_type": "code",
   "execution_count": null,
   "metadata": {},
   "outputs": [],
   "source": [
    "#import seaborn as sns\n",
    "\n",
    "sns.set(style=\"ticks\", color_codes=True)\n",
    "#iris = sns.load_dataset(\"iris\")\n",
    "g = sns.pairplot(df)\n",
    "\n",
    "\n",
    "import matplotlib.pyplot as plt\n",
    "plt.show()"
   ]
  },
  {
   "cell_type": "code",
   "execution_count": null,
   "metadata": {},
   "outputs": [],
   "source": []
  }
 ],
 "metadata": {
  "kernelspec": {
   "display_name": "Python 3",
   "language": "python",
   "name": "python3"
  },
  "language_info": {
   "codemirror_mode": {
    "name": "ipython",
    "version": 3
   },
   "file_extension": ".py",
   "mimetype": "text/x-python",
   "name": "python",
   "nbconvert_exporter": "python",
   "pygments_lexer": "ipython3",
   "version": "3.7.6"
  }
 },
 "nbformat": 4,
 "nbformat_minor": 4
}
