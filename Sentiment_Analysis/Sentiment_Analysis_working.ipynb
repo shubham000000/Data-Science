{
 "cells": [
  {
   "cell_type": "code",
   "execution_count": 1,
   "metadata": {},
   "outputs": [],
   "source": [
    "import re \n",
    "import tweepy \n",
    "from tweepy import OAuthHandler \n",
    "from textblob import TextBlob\n",
    "import seaborn as sns"
   ]
  },
  {
   "cell_type": "code",
   "execution_count": 2,
   "metadata": {},
   "outputs": [],
   "source": [
    "class TwitterClient(object): \n",
    "    ''' \n",
    "    Generic Twitter Class for sentiment analysis. \n",
    "    '''\n",
    "    def __init__(self):\n",
    "        \n",
    "        ''' \n",
    "        Class constructor or initialization method. \n",
    "        '''\n",
    "        # keys and tokens from the Twitter Dev Console \n",
    "        consumer_key = \"IktIPcFHSadPWihRWoBy6FyCd\"\n",
    "        consumer_secret = \"XdvyoeMnuuyL5Prs2nDialJTkNLvCelSRZfTV0VQYEAeCkebCF\"\n",
    "        access_token = \"3392234414-1XG8vW8leRovfF6OfunhOlTCrffrwoRZlvKbL0Z\"\n",
    "        access_token_secret = \"NKkU5yAlWEnMdVSMdVzBsQRxEZtaagZYBV6Gkpj1Qvh7G\"\n",
    "        \n",
    "  \n",
    "        # attempt authentication \n",
    "        try: \n",
    "            # create OAuthHandler object \n",
    "            self.auth = OAuthHandler(consumer_key, consumer_secret) \n",
    "            # set access token and secret \n",
    "            self.auth.set_access_token(access_token, access_token_secret) \n",
    "            # create tweepy API object to fetch tweets \n",
    "            self.api = tweepy.API(self.auth) \n",
    "        except: \n",
    "            print(\"Error: Authentication Failed\") \n",
    "  \n",
    "    def clean_tweet(self, tweet): \n",
    "        ''' \n",
    "        Utility function to clean tweet text by removing links, special characters \n",
    "        using simple regex statements. \n",
    "        '''\n",
    "        #tweet = Word(tweet)\n",
    "        #tweet = tweet.lemmatize()\n",
    "        return ' '.join(re.sub(\"(@[A-Za-z0-9]+)|([^0-9A-Za-z \\t]) |(\\w+:\\/\\/\\S+)\", \" \", tweet).split()) \n",
    "  \n",
    "    def get_tweet_sentiment(self, tweet): \n",
    "        ''' \n",
    "        Utility function to classify sentiment of passed tweet \n",
    "        using textblob's sentiment method \n",
    "        '''\n",
    "        # create TextBlob object of passed tweet text \n",
    "        analysis = TextBlob(self.clean_tweet(tweet)) \n",
    "      \n",
    "        # set sentiment \n",
    "        if analysis.sentiment.polarity > 0: \n",
    "            return 'positive'\n",
    "        elif analysis.sentiment.polarity == 0: \n",
    "            return 'neutral'\n",
    "        else: \n",
    "            return 'negative'\n",
    "  \n",
    "    def get_tweets(self, query, count = 10): \n",
    "        ''' \n",
    "        Main function to fetch tweets and parse them. \n",
    "        '''\n",
    "        # empty list to store parsed tweets \n",
    "        tweets = [] \n",
    "  \n",
    "        try: \n",
    "            # call twitter api to fetch tweets \n",
    "            fetched_tweets = self.api.search(q = query, count = count) \n",
    "  \n",
    "            # parsing tweets one by one \n",
    "            for tweet in fetched_tweets: \n",
    "                # empty dictionary to store required params of a tweet \n",
    "                parsed_tweet = {} \n",
    "  \n",
    "                # saving text of tweet \n",
    "                parsed_tweet['text'] = tweet.text \n",
    "                # saving sentiment of tweet \n",
    "                parsed_tweet['sentiment'] = self.get_tweet_sentiment(tweet.text) \n",
    "  \n",
    "                # appending parsed tweet to tweets list \n",
    "                if tweet.retweet_count > 0: \n",
    "                    # if tweet has retweets, ensure that it is appended only once \n",
    "                    if parsed_tweet not in tweets: \n",
    "                        tweets.append(parsed_tweet) \n",
    "                else: \n",
    "                    tweets.append(parsed_tweet) \n",
    "  \n",
    "            # return parsed tweets \n",
    "            return tweets \n",
    "  \n",
    "        except tweepy.TweepError as e: \n",
    "            # print error (if any) \n",
    "            print(\"Error : \" + str(e)) "
   ]
  },
  {
   "cell_type": "code",
   "execution_count": null,
   "metadata": {},
   "outputs": [],
   "source": [
    "def main(): \n",
    "    # creating object of TwitterClient Class \n",
    "    api = TwitterClient() \n",
    "    # calling function to get tweets \n",
    "    tweets = api.get_tweets(query = input(\"Enter hashtag: \"), count = 200) \n",
    "  \n",
    "    # picking positive tweets from tweets \n",
    "    ptweets = [tweet for tweet in tweets if tweet['sentiment'] == 'positive']\n",
    "    print(\"\\n\")\n",
    "    # percentage of positive tweets\n",
    "    \n",
    "    \n",
    "    print(\"----------------------------------------------------\")\n",
    "    print(\"Positive tweets percentage: {} %\".format(100*len(ptweets)/len(tweets))) \n",
    "    # picking negative tweets from tweets \n",
    "    ntweets = [tweet for tweet in tweets if tweet['sentiment'] == 'negative'] \n",
    "    # percentage of negative tweets\n",
    "  \n",
    "    print(\"Negative tweets percentage: {} %\".format(100*len(ntweets)/len(tweets))) \n",
    "    # percentage of neutral tweets \n",
    "    #print(\"Neutral tweets percentage: {} %\".format(100*len(tweets-(ntweets+ptweets)/len(tweets))))\n",
    "    print(\"\\n\")\n",
    "    \n",
    "    print(\"Positive tweets: \")\n",
    "    print(\"\\n\")\n",
    "    for tweet in ptweets[:10]:\n",
    "        print(tweet['text'])\n",
    "        print('----------------------------------------------------------------------------------------------------------------------')\n",
    "        \n",
    "    print(\"\\n\")\n",
    "    #printing first 5 negative tweets \n",
    "    print(\"Negative tweets:\")\n",
    "    print(\"\\n\")\n",
    "    for tweet in ntweets[:10]:\n",
    "        print(tweet['text'])\n",
    "        print('----------------------------------------------------------------------------------------------------------------------')\n",
    "    \n",
    "    import numpy as np\n",
    "    import matplotlib.pyplot as plt\n",
    " \n",
    "    # Make a fake dataset:\n",
    "    height = [100*len(ntweets)/len(tweets), 100*len(ptweets)/len(tweets)]\n",
    "    bars = ('Negative', 'Positive')\n",
    "    y_pos = np.arange(len(bars))\n",
    "\n",
    "    # Create bars\n",
    "    plt.bar(y_pos, height)\n",
    " \n",
    "    # Create names on the x-axis\n",
    "    plt.xticks(y_pos, bars)\n",
    "\n",
    "    # Show graphic\n",
    "    plt.show()\n",
    "    \n",
    "\n",
    "   \n",
    "\n",
    "    #ax = sns.barplot(x=100*len(ptweets)/len(tweets), y=100*len(ntweets)/len(tweets), data=tweets)\n",
    "if __name__ == \"__main__\": \n",
    "    # calling main function \n",
    "    main() "
   ]
  },
  {
   "cell_type": "code",
   "execution_count": 53,
   "metadata": {},
   "outputs": [],
   "source": [
    "# def clean_tweet(self, tweet): \n",
    "#         ''' \n",
    "#         Utility function to clean tweet text by removing links, special characters \n",
    "#         using simple regex statements. \n",
    "#         '''\n",
    "#         return ' '.join(re.sub(\"(@[A-Za-z0-9]+)|([^0-9A-Za-z \\t]) |(\\w+:\\/\\/\\S+)\", \" \", tweet).split()) \n",
    "\n",
    "# def get_tweet_sentiment(self, tweet): \n",
    "#     ''' \n",
    "#     Utility function to classify sentiment of passed tweet \n",
    "#     using textblob's sentiment method\n",
    "\n",
    "#     '''\n",
    "#     #p_t = \"The reason for this is because the pound sign is a valid character for a file name, but it is not a valid character for use in a hyperlink. Since hyperlinks are closely related to URLs, you may think that replacing the pound sign with its hexadecimal equivalent (%23) in the hyperlink might do the trick. For instance, you might use the name My%23File.xlsx in the hyperlink instead of My#File.xlsx.This potential solution won't work, however.Excel still complains that it cannot find the file when you click on the hyperlink.\"\n",
    "#     # create TextBlob object of passed tweet text \n",
    "#     analysis = TextBlob(self.clean_tweet(tweet))\n",
    "\n",
    "#     print(p_t)\n",
    "\n",
    "#     print(\"----------------------------------\")\n",
    "\n",
    "#     print(analysis)\n",
    "\n"
   ]
  },
  {
   "cell_type": "code",
   "execution_count": 7,
   "metadata": {},
   "outputs": [
    {
     "name": "stdout",
     "output_type": "stream",
     "text": [
      "* ! ~ @ $ I like you, he is friend of mine something is not good, something is wonderful Visit our HTML tutorial  The reason for this is because the pound sign is a valid character for a file name, but it is not a valid character for use in a hyperlink. Since hyperlinks are closely related to URLs, you may think that replacing the pound sign with its hexadecimal equivalent (%23) in the hyperlink might do the trick. For instance, you might use the name My%23File.xlsx in the hyperlink instead of My#File.xlsx.This potential solution won't work, however.Excel still complains that it cannot find the file when you click on the hyperlink.\n"
     ]
    }
   ],
   "source": [
    "# tweet = \"* ! ~ @ $ I like you, he is friend of mine something is not good, something is wonderful Visit our HTML tutorial  The reason for this is because the pound sign is a valid character for a file name, but it is not a valid character for use in a hyperlink. Since hyperlinks are closely related to URLs, you may think that replacing the pound sign with its hexadecimal equivalent (%23) in the hyperlink might do the trick. For instance, you might use the name My%23File.xlsx in the hyperlink instead of My#File.xlsx.This potential solution won't work, however.Excel still complains that it cannot find the file when you click on the hyperlink.\"\n",
    "   \n",
    "# print(tweet)\n",
    "# #get_tweet_sentiment(tweet, tweet)"
   ]
  },
  {
   "cell_type": "code",
   "execution_count": 8,
   "metadata": {},
   "outputs": [
    {
     "name": "stdout",
     "output_type": "stream",
     "text": [
      "I like you he is friend of mine something is not good something is wonderful Visit our HTML tutorial The reason for this is because the pound sign is a valid character for a file name but it is not a valid character for use in a hyperlink Since hyperlinks are closely related to URLs you may think that replacing the pound sign with its hexadecimal equivalent (%23 in the hyperlink might do the trick For instance you might use the name My%23File.xlsx in the hyperlink instead of My#File.xlsx.This potential solution won't work however.Excel still complains that it cannot find the file when you click on the hyperlink.\n"
     ]
    }
   ],
   "source": [
    "# text = print(' '.join(re.sub(\"(@[A-Za-z0-9]+)|([^0-9A-Za-z \\t]) |(\\w+:\\/\\/\\S+)\", \" \", tweet).split()))"
   ]
  },
  {
   "cell_type": "code",
   "execution_count": 86,
   "metadata": {},
   "outputs": [
    {
     "data": {
      "text/plain": [
       "str"
      ]
     },
     "execution_count": 86,
     "metadata": {},
     "output_type": "execute_result"
    }
   ],
   "source": [
    "# type(str(text))"
   ]
  },
  {
   "cell_type": "code",
   "execution_count": 27,
   "metadata": {},
   "outputs": [],
   "source": [
    "# blob = TextBlob(\"I am good\")"
   ]
  },
  {
   "cell_type": "code",
   "execution_count": 28,
   "metadata": {},
   "outputs": [],
   "source": [
    "#blob= TextBlob(str(text))"
   ]
  },
  {
   "cell_type": "code",
   "execution_count": 29,
   "metadata": {},
   "outputs": [
    {
     "data": {
      "text/plain": [
       "[('I', 'PRP'), ('am', 'VBP'), ('good', 'JJ')]"
      ]
     },
     "execution_count": 29,
     "metadata": {},
     "output_type": "execute_result"
    }
   ],
   "source": [
    "# blob.tags"
   ]
  },
  {
   "cell_type": "code",
   "execution_count": 30,
   "metadata": {},
   "outputs": [
    {
     "data": {
      "text/plain": [
       "Sentiment(polarity=0.7, subjectivity=0.6000000000000001)"
      ]
     },
     "execution_count": 30,
     "metadata": {},
     "output_type": "execute_result"
    }
   ],
   "source": [
    "# blob.sentiment"
   ]
  },
  {
   "cell_type": "code",
   "execution_count": 31,
   "metadata": {},
   "outputs": [
    {
     "name": "stdout",
     "output_type": "stream",
     "text": [
      "positive\n"
     ]
    }
   ],
   "source": [
    "# if blob.sentiment.polarity > 0:\n",
    "#     print('positive')\n",
    "# elif blob.sentiment.polarity == 0:\n",
    "#     print('neutral')\n",
    "# else:\n",
    "#     print('negative')"
   ]
  },
  {
   "cell_type": "code",
   "execution_count": 38,
   "metadata": {},
   "outputs": [],
   "source": [
    "# from textblob import Word"
   ]
  },
  {
   "cell_type": "code",
   "execution_count": 41,
   "metadata": {},
   "outputs": [
    {
     "name": "stdout",
     "output_type": "stream",
     "text": [
      "beauti\n"
     ]
    }
   ],
   "source": [
    "# w = Word(\"beautiful\")\n",
    "# print(w.stem())"
   ]
  },
  {
   "cell_type": "code",
   "execution_count": null,
   "metadata": {},
   "outputs": [],
   "source": []
  }
 ],
 "metadata": {
  "kernelspec": {
   "display_name": "Python 3",
   "language": "python",
   "name": "python3"
  },
  "language_info": {
   "codemirror_mode": {
    "name": "ipython",
    "version": 3
   },
   "file_extension": ".py",
   "mimetype": "text/x-python",
   "name": "python",
   "nbconvert_exporter": "python",
   "pygments_lexer": "ipython3",
   "version": "3.7.3"
  }
 },
 "nbformat": 4,
 "nbformat_minor": 2
}
